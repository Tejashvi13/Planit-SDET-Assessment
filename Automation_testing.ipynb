{
 "cells": [
  {
   "cell_type": "code",
   "execution_count": 2,
   "metadata": {},
   "outputs": [],
   "source": [
    "from selenium import webdriver\n",
    "import time\n",
    "from selenium.webdriver.common.keys import Keys"
   ]
  },
  {
   "cell_type": "markdown",
   "metadata": {},
   "source": [
    "# Test case 1: Check if user can navigate freely through the text links on the website"
   ]
  },
  {
   "cell_type": "markdown",
   "metadata": {},
   "source": [
    "Pre-condition: System should be connected to Wifi.\n",
    "\n",
    "Steps to reproduce: 1.Launch any broswer\n",
    "    \n",
    "                   2.Enter website url\n",
    "        \n",
    "                   3.Click on headings on at a time to navigate through the website\n",
    "   \n",
    "\n",
    "Test data: https://jupiter.cloud.planittesting.com/#/\n",
    "\n",
    "Expected Behaviour: Upon click on each heading, the page will change accordingly and show you information on that page.\n",
    "\n",
    "Actual Beheviour: User gets changed to different pages where information about the website are.\n",
    "\n",
    "Result: Passed\n",
    "\n",
    "\n"
   ]
  },
  {
   "cell_type": "markdown",
   "metadata": {},
   "source": [
    "driver = webdriver.Chrome(r\"C:\\Users\\tejra\\Downloads\\chromedriver_win32\\\\chromedriver.exe\")\n",
    "driver.implicitly_wait(10)\n",
    "driver.maximize_window()\n",
    "\n",
    "driver.get(\"https://jupiter.cloud.planittesting.com/#/\")\n",
    "\n",
    "time.sleep(5)\n",
    "\n",
    "driver.find_element(\"id\",\"nav-shop\").click()\n",
    "time.sleep(5)\n",
    "driver.find_element(\"id\",\"nav-contact\").click()\n",
    "time.sleep(5)\n",
    "driver.find_element(\"id\",\"nav-cart\")click()\n",
    "time.sleep(5)\n",
    "driver.find_element(\"xpath\",\"/html/body/div[1]/div/div/a[2]\").click()\n",
    "time.sleep(5)\n",
    "driver.find_element(\"id\",\"nav-shop\")click()\n",
    "time.sleep(5)\n",
    "\n",
    "driver.close()\n"
   ]
  },
  {
   "cell_type": "markdown",
   "metadata": {},
   "source": [
    "# Test Case 2: Check if user can use \"Start shopping\" button from home page"
   ]
  },
  {
   "cell_type": "markdown",
   "metadata": {},
   "source": [
    "Pre-condition: 1.System should be connected to wifi.\n",
    "    \n",
    "               2.System should have a browser installed.\n",
    "        \n",
    "\n",
    "Steps to reproduce: 1.Launch any broswer\n",
    "\n",
    "               2.Enter website url\n",
    "\n",
    "               3.Click on \"Start shopping\" button\n",
    "\n",
    "Test data: https://jupiter.cloud.planittesting.com/#/\n",
    "\n",
    "Expected Behaviour: Upon click on the button, user should be directed to the shop page.\n",
    "\n",
    "Actual Beheviour: User is directed to the shop page.\n",
    "\n",
    "Result: Pass\n"
   ]
  },
  {
   "cell_type": "code",
   "execution_count": null,
   "metadata": {},
   "outputs": [],
   "source": [
    "driver = webdriver.Chrome(r\"C:\\Users\\tejra\\Downloads\\chromedriver_win32\\\\chromedriver.exe\")\n",
    "driver.implicitly_wait(10)\n",
    "driver.maximize_window()\n",
    "\n",
    "driver.get(\"https://jupiter.cloud.planittesting.com/#/\")\n",
    "\n",
    "time.sleep(5)\n",
    "\n",
    "driver.find_element(\"xpath\",\"/html/body/div[2]/div/div/div[1]/p[2]/a\").click()\n",
    "\n",
    "time.sleep(10)\n",
    "\n",
    "\n",
    "driver.close()\n"
   ]
  },
  {
   "cell_type": "markdown",
   "metadata": {},
   "source": [
    "# Test Case 3: Check if user is able to log in using valid inputs"
   ]
  },
  {
   "cell_type": "markdown",
   "metadata": {},
   "source": [
    "Pre-condition: 1.System should be connected to wifi.\n",
    "    \n",
    "               2.System should have a browser installed.\n",
    "\n",
    "Steps to reproduce: 1.Launch any browser\n",
    "    \n",
    "                    2.Enter website URL\n",
    "        \n",
    "                    3.Click the \"login\" button\n",
    "            \n",
    "                    4.Enter valid email address\n",
    "                \n",
    "                    5.Enter valid password\n",
    "                    \n",
    "                    6.Click on new \"login\" button\n",
    "                    \n",
    "\n",
    "Test data: https://jupiter.cloud.planittesting.com/#/\n",
    "           email-mayurramjug13@gmail.com\n",
    "           password-WASD\n",
    "        \n",
    "\n",
    "Expected Behaviour: Login successful message is displayed\n",
    "\n",
    "Actual Beheviour: Unable to login, message pop up saying login details are incorrect\n",
    "\n",
    "Result: Fail\n"
   ]
  },
  {
   "cell_type": "code",
   "execution_count": 56,
   "metadata": {},
   "outputs": [
    {
     "name": "stderr",
     "output_type": "stream",
     "text": [
      "C:\\Users\\tejra\\Anaconda3\\lib\\site-packages\\ipykernel_launcher.py:1: DeprecationWarning: executable_path has been deprecated, please pass in a Service object\n",
      "  \"\"\"Entry point for launching an IPython kernel.\n"
     ]
    }
   ],
   "source": [
    "driver = webdriver.Chrome(r\"C:\\Users\\tejra\\Downloads\\chromedriver_win32\\\\chromedriver.exe\")\n",
    "driver.implicitly_wait(10)\n",
    "driver.maximize_window()\n",
    "\n",
    "driver.get(\"https://jupiter.cloud.planittesting.com/#/\")\n",
    "\n",
    "time.sleep(3)\n",
    "\n",
    "driver.find_element(\"id\", \"nav-login\").click()\n",
    "\n",
    "time.sleep(1)\n",
    "driver.find_element(\"xpath\", \"//*[@id='loginUserName']\").send_keys(\"mayu@gmail.com\")\n",
    "driver.find_element(\"xpath\", \"//*[@id='loginPassword']\").send_keys(\"WASD\")\n",
    "time.sleep(1)\n",
    "driver.find_element(\"xpath\", \"/html/body/div[3]/div[3]/button[1]\").click()\n",
    "\n",
    "time.sleep(5)\n",
    "\n",
    "driver.close()"
   ]
  },
  {
   "cell_type": "markdown",
   "metadata": {},
   "source": [
    "# Test Case 4: Check if user can add products to cart, access it and go back to shop to add more"
   ]
  },
  {
   "cell_type": "markdown",
   "metadata": {},
   "source": [
    "Pre-condition: 1.Website is launched from any browser\n",
    "    \n",
    "               2. Click \"start shopping\" buttor or navigate to shop.\n",
    "\n",
    "        \n",
    "Steps to reproduce: 1.Choose product(s) user wants to add to cart.\n",
    "    \n",
    "                    2.Click on \"buy\" button.\n",
    "        \n",
    "                    3.Click on Cart.\n",
    "            \n",
    "                    4.Go back to shop to add more items.\n",
    "                \n",
    "        \n",
    "Expected Behaviour: The cart showing on top right increases as we press the buy button and successfully navigate back to shop and more items is added to cart.\n",
    "\n",
    "Actual Beheviour: The number of items inside the cart starts to increase, the page is directed back to shop and more items is added.\n",
    "\n",
    "Result: Pass\n"
   ]
  },
  {
   "cell_type": "code",
   "execution_count": 74,
   "metadata": {},
   "outputs": [
    {
     "name": "stderr",
     "output_type": "stream",
     "text": [
      "C:\\Users\\tejra\\Anaconda3\\lib\\site-packages\\ipykernel_launcher.py:1: DeprecationWarning: executable_path has been deprecated, please pass in a Service object\n",
      "  \"\"\"Entry point for launching an IPython kernel.\n"
     ]
    }
   ],
   "source": [
    "driver = webdriver.Chrome(r\"C:\\Users\\tejra\\Downloads\\chromedriver_win32\\\\chromedriver.exe\")\n",
    "driver.implicitly_wait(10)\n",
    "driver.maximize_window()\n",
    "\n",
    "driver.get(\"https://jupiter.cloud.planittesting.com/#/\")\n",
    "\n",
    "time.sleep(2)\n",
    "\n",
    "driver.find_element(\"xpath\",\"/html/body/div[2]/div/div/div[1]/p[2]/a\").click()\n",
    "time.sleep(1)\n",
    "driver.find_element(\"xpath\", \"//*[@id='product-1']/div/p/a\").click()\n",
    "time.sleep(1)\n",
    "driver.find_element(\"xpath\", \"//*[@id='product-5']/div/p/a\").click()\n",
    "time.sleep(1)\n",
    "driver.find_element(\"xpath\", \"//*[@id='product-7']/div/p/a\").click()\n",
    "time.sleep(2)\n",
    "driver.find_element(\"id\",\"nav-cart\").click()\n",
    "time.sleep(5)\n",
    "driver.find_element(\"id\",\"nav-shop\").click()\n",
    "driver.find_element(\"xpath\", \"//*[@id='product-1']/div/p/a\").click()\n",
    "time.sleep(1)\n",
    "driver.find_element(\"xpath\", \"//*[@id='product-8']/div/p/a\").click()\n",
    "time.sleep(1)\n",
    "driver.find_element(\"xpath\", \"//*[@id='product-4']/div/p/a\").click()\n",
    "time.sleep(1)\n",
    "driver.find_element(\"id\",\"nav-cart\").click()\n",
    "time.sleep(5)\n",
    "\n",
    "driver.close()\n"
   ]
  },
  {
   "cell_type": "markdown",
   "metadata": {},
   "source": [
    "# Test Case 5: Check if user can access Checkout page after adding products"
   ]
  },
  {
   "cell_type": "markdown",
   "metadata": {},
   "source": [
    "Pre-condition: Items should be in cart already.\n",
    "\n",
    "Steps to reproduce: 1.Click on cart.\n",
    "    \n",
    "                    2.Click \"Checkout\" button\n",
    "        \n",
    "\n",
    "Expected Behaviour: User should be directed to checkout where payments information is asked\n",
    "\n",
    "Actual Beheviour: User is directed to checkout.\n",
    "\n",
    "Result: Pass\n"
   ]
  },
  {
   "cell_type": "code",
   "execution_count": 69,
   "metadata": {},
   "outputs": [
    {
     "name": "stderr",
     "output_type": "stream",
     "text": [
      "C:\\Users\\tejra\\Anaconda3\\lib\\site-packages\\ipykernel_launcher.py:1: DeprecationWarning: executable_path has been deprecated, please pass in a Service object\n",
      "  \"\"\"Entry point for launching an IPython kernel.\n"
     ]
    }
   ],
   "source": [
    "driver = webdriver.Chrome(r\"C:\\Users\\tejra\\Downloads\\chromedriver_win32\\\\chromedriver.exe\")\n",
    "driver.implicitly_wait(10)\n",
    "driver.maximize_window()\n",
    "\n",
    "driver.get(\"https://jupiter.cloud.planittesting.com/#/\")\n",
    "\n",
    "time.sleep(2)\n",
    "\n",
    "driver.find_element(\"xpath\",\"/html/body/div[2]/div/div/div[1]/p[2]/a\").click()\n",
    "time.sleep(1)\n",
    "driver.find_element(\"xpath\", \"//*[@id='product-1']/div/p/a\").click()\n",
    "time.sleep(1)\n",
    "driver.find_element(\"xpath\", \"//*[@id='product-5']/div/p/a\").click()\n",
    "time.sleep(1)\n",
    "driver.find_element(\"xpath\", \"//*[@id='product-7']/div/p/a\").click()\n",
    "time.sleep(2)\n",
    "driver.find_element(\"id\",\"nav-cart\").click()\n",
    "time.sleep(4)\n",
    "driver.find_element(\"xpath\", \"/html/body/div[2]/div/form/table/tfoot/tr[2]/td/a\").click()\n",
    "time.sleep(4)\n",
    "\n",
    "driver.close()"
   ]
  },
  {
   "cell_type": "markdown",
   "metadata": {},
   "source": [
    "# Test Case 6: Check if error message is displayed if mandatory fields are left blank both at Checkout or when contacting support"
   ]
  },
  {
   "cell_type": "markdown",
   "metadata": {},
   "source": [
    "Pre-condition: Website is launched from any browser\n",
    "\n",
    "Steps to reproduce: 1.Click on Shop or \"start shopping\" button.\n",
    "    \n",
    "                    2.Add item to cart.\n",
    "        \n",
    "                    3.Access cart.\n",
    "            \n",
    "                    4.Click \"Checkout\" button.\n",
    "                \n",
    "                    5.Then click submit.\n",
    "\n",
    "                    \n",
    "Expected Behaviour: Error message should be displayed if the mandatory fields are left empty and order is not processed\n",
    "\n",
    "Actual Beheviour: Bahaved exactly as expected.\n",
    "\n",
    "Result: Pass\n"
   ]
  },
  {
   "cell_type": "code",
   "execution_count": 22,
   "metadata": {},
   "outputs": [
    {
     "name": "stderr",
     "output_type": "stream",
     "text": [
      "C:\\Users\\tejra\\Anaconda3\\lib\\site-packages\\ipykernel_launcher.py:1: DeprecationWarning: executable_path has been deprecated, please pass in a Service object\n",
      "  \"\"\"Entry point for launching an IPython kernel.\n"
     ]
    }
   ],
   "source": [
    "driver = webdriver.Chrome(r\"C:\\Users\\tejra\\Downloads\\chromedriver_win32\\\\chromedriver.exe\")\n",
    "driver.implicitly_wait(10)\n",
    "driver.maximize_window()\n",
    "\n",
    "driver.get(\"https://jupiter.cloud.planittesting.com/#/\")\n",
    "\n",
    "time.sleep(2)\n",
    "\n",
    "driver.find_element(\"xpath\", \"/html/body/div[2]/div/div/div[1]/p[2]/a\").click()\n",
    "time.sleep(2)\n",
    "driver.find_element(\"xpath\", \"//*[@id='product-1']/div/p/a\").click()\n",
    "time.sleep(2)\n",
    "driver.find_element(\"id\", \"nav-cart\").click()\n",
    "time.sleep(2)\n",
    "driver.find_element(\"xpath\", \"/html/body/div[2]/div/form/table/tfoot/tr[2]/td/a\").click()\n",
    "time.sleep(2)\n",
    "driver.find_element(\"xpath\", \"//*[@id='checkout-submit-btn']\").click()\n",
    "time.sleep(5)\n",
    "driver.find_element(\"id\", \"nav-contact\").click()\n",
    "time.sleep(2)\n",
    "driver.find_element(\"xpath\", \"/html/body/div[2]/div/form/div/a\").click()\n",
    "time.sleep(5)\n",
    "driver.close()"
   ]
  },
  {
   "cell_type": "markdown",
   "metadata": {},
   "source": [
    "# Test Case 7: Check if user have the option to remove or cancel the removal of selected product from cart. "
   ]
  },
  {
   "cell_type": "code",
   "execution_count": null,
   "metadata": {},
   "outputs": [],
   "source": [
    "Pre-condition: 1.Website should be launched from any browser\n",
    "\n",
    "               2.Should have items added to cart.\n",
    "        \n",
    "\n",
    "Steps to reproduce: 1.Go to cart\n",
    "    \n",
    "                    2.Look for a \"Red\" button just below the word \"action\" and click\n",
    "        \n",
    "                    3.Click No first.\n",
    "            \n",
    "                    4.Click the \"Red\" button again and click Yes.\n",
    "\n",
    "\n",
    "Expected Behaviour: Selected item should be removed from the card\n",
    "\n",
    "Actual Beheviour: I\n",
    "\n",
    "Result:\n"
   ]
  },
  {
   "cell_type": "code",
   "execution_count": 5,
   "metadata": {},
   "outputs": [
    {
     "name": "stderr",
     "output_type": "stream",
     "text": [
      "C:\\Users\\tejra\\Anaconda3\\lib\\site-packages\\ipykernel_launcher.py:1: DeprecationWarning: executable_path has been deprecated, please pass in a Service object\n",
      "  \"\"\"Entry point for launching an IPython kernel.\n"
     ]
    }
   ],
   "source": [
    "driver = webdriver.Chrome(r\"C:\\Users\\tejra\\Downloads\\chromedriver_win32\\\\chromedriver.exe\")\n",
    "driver.implicitly_wait(10)\n",
    "driver.maximize_window()\n",
    "\n",
    "driver.get(\"https://jupiter.cloud.planittesting.com/#/\")\n",
    "\n",
    "time.sleep(2)\n",
    "\n",
    "driver.find_element(\"xpath\",\"/html/body/div[2]/div/div/div[1]/p[2]/a\").click()\n",
    "time.sleep(1)\n",
    "driver.find_element(\"xpath\", \"//*[@id='product-2']/div/p/a\").click()\n",
    "time.sleep(1)\n",
    "driver.find_element(\"xpath\", \"//*[@id='product-4']/div/p/a\").click()\n",
    "time.sleep(1)\n",
    "driver.find_element(\"xpath\", \"//*[@id='product-6']/div/p/a\").click()\n",
    "time.sleep(2)\n",
    "driver.find_element(\"id\",\"nav-cart\").click()\n",
    "time.sleep(4)\n",
    "\n",
    "driver.find_element(\"xpath\", \"/html/body/div[2]/div/form/table/tbody/tr[1]/td[5]/ng-confirm/a\").click()\n",
    "time.sleep(3)\n",
    "driver.find_element(\"xpath\", \"/html/body/div[3]/div[3]/a[2]\").click()\n",
    "time.sleep(3)\n",
    "driver.find_element(\"xpath\", \"/html/body/div[2]/div/form/table/tbody/tr[1]/td[5]/ng-confirm/a\").click()\n",
    "time.sleep(3)\n",
    "driver.find_element(\"xpath\", \"/html/body/div[3]/div[3]/a[1]\").click()\n",
    "time.sleep(4)\n",
    "\n",
    "driver.close()"
   ]
  },
  {
   "cell_type": "markdown",
   "metadata": {},
   "source": [
    "# Test Case 8: Check if user can clear the cart if wishes to or is able to cancel the process"
   ]
  },
  {
   "cell_type": "markdown",
   "metadata": {},
   "source": [
    "Pre-condition: User should have items added to cart.\n",
    "\n",
    "Steps to reproduce: 1.Go to cart.\n",
    "    \n",
    "                    2.Click \"Empty Cart\" button.\n",
    "        \n",
    "                    3.Click on No first to check if request is cancelled.\n",
    "            \n",
    "                    4.Click on \"Empty Cart\" again click Yes.\n",
    "\n",
    "                \n",
    "Expected Behaviour: Upon click No, the request should be cancelled and upon clicking on yes on the pop up, the cart is cleared\n",
    "\n",
    "Actual Beheviour: Behaved as expected\n",
    "\n",
    "Result: Pass\n"
   ]
  },
  {
   "cell_type": "code",
   "execution_count": 9,
   "metadata": {},
   "outputs": [
    {
     "name": "stderr",
     "output_type": "stream",
     "text": [
      "C:\\Users\\tejra\\Anaconda3\\lib\\site-packages\\ipykernel_launcher.py:1: DeprecationWarning: executable_path has been deprecated, please pass in a Service object\n",
      "  \"\"\"Entry point for launching an IPython kernel.\n"
     ]
    }
   ],
   "source": [
    "driver = webdriver.Chrome(r\"C:\\Users\\tejra\\Downloads\\chromedriver_win32\\\\chromedriver.exe\")\n",
    "driver.implicitly_wait(10)\n",
    "driver.maximize_window()\n",
    "\n",
    "driver.get(\"https://jupiter.cloud.planittesting.com/#/\")\n",
    "\n",
    "time.sleep(2)\n",
    "\n",
    "driver.find_element(\"xpath\",\"/html/body/div[2]/div/div/div[1]/p[2]/a\").click()\n",
    "time.sleep(2)\n",
    "driver.find_element(\"xpath\", \"//*[@id='product-2']/div/p/a\").click()\n",
    "time.sleep(2)\n",
    "driver.find_element(\"xpath\", \"//*[@id='product-3']/div/p/a\").click()\n",
    "time.sleep(2)\n",
    "driver.find_element(\"xpath\", \"//*[@id='product-6']/div/p/a\").click()\n",
    "time.sleep(2)\n",
    "driver.find_element(\"xpath\", \"//*[@id='product-7']/div/p/a\").click()\n",
    "time.sleep(2)\n",
    "driver.find_element(\"xpath\", \"//*[@id='product-8']/div/p/a\").click()\n",
    "time.sleep(2)\n",
    "driver.find_element(\"id\",\"nav-cart\").click()\n",
    "time.sleep(3)\n",
    "driver.find_element(\"xpath\",\"/html/body/div[2]/div/form/table/tfoot/tr[2]/td/ng-confirm/a\").click()\n",
    "time.sleep(3)\n",
    "driver.find_element(\"xpath\", \"/html/body/div[3]/div[3]/a[2]\").click()\n",
    "time.sleep(3)\n",
    "driver.find_element(\"xpath\",\"/html/body/div[2]/div/form/table/tfoot/tr[2]/td/ng-confirm/a\").click()\n",
    "time.sleep(3)\n",
    "driver.find_element(\"xpath\",\"/html/body/div[3]/div[3]/a[1]\").click()\n",
    "time.sleep(4)\n",
    "\n",
    "driver.close()\n"
   ]
  },
  {
   "cell_type": "markdown",
   "metadata": {},
   "source": [
    "# Test Case 9: Check if user is able to send message to support team if mandatory fields are filled"
   ]
  },
  {
   "cell_type": "markdown",
   "metadata": {},
   "source": [
    "Pre-condition: Website should be launched from any browser\n",
    "\n",
    "Steps to reproduce: 1.Navigate through Contact.\n",
    "    \n",
    "                    2.Enter Forename.\n",
    "        \n",
    "                    3.Enter email address.\n",
    "            \n",
    "                    4.Enter Message to be sent.\n",
    "                \n",
    "                    5.Click submit.\n",
    "\n",
    "                    \n",
    "Test data: forename: tej\n",
    "        \n",
    "           email: mayurramjug13@gmail.com\n",
    "                \n",
    "           message:\"Hi, i am contacting the support team about not being able to log in on my account on the website. Can you please look into the issue. Thank you\"\n",
    "\n",
    "            \n",
    "Expected Behaviour: Message is sent and user is directed to a different page showing confirmation of message sent.\n",
    "\n",
    "Actual Beheviour: Behaved exactly as expected.\n",
    "\n",
    "Result: Pass\n"
   ]
  },
  {
   "cell_type": "code",
   "execution_count": 14,
   "metadata": {},
   "outputs": [
    {
     "name": "stderr",
     "output_type": "stream",
     "text": [
      "C:\\Users\\tejra\\Anaconda3\\lib\\site-packages\\ipykernel_launcher.py:1: DeprecationWarning: executable_path has been deprecated, please pass in a Service object\n",
      "  \"\"\"Entry point for launching an IPython kernel.\n"
     ]
    }
   ],
   "source": [
    "driver = webdriver.Chrome(r\"C:\\Users\\tejra\\Downloads\\chromedriver_win32\\\\chromedriver.exe\")\n",
    "driver.implicitly_wait(10)\n",
    "driver.maximize_window()\n",
    "\n",
    "driver.get(\"https://jupiter.cloud.planittesting.com/#/\")\n",
    "\n",
    "time.sleep(2)\n",
    "\n",
    "driver.find_element(\"id\", \"nav-contact\").click()\n",
    "time.sleep(3)\n",
    "driver.find_element(\"id\",\"forename\").send_keys(\"Tej\")\n",
    "time.sleep(1)\n",
    "driver.find_element(\"id\", \"email\").send_keys(\"mayurramjug13@gmail.com\")\n",
    "time.sleep(1)\n",
    "driver.find_element(\"id\", \"message\").send_keys(\"Hi, i am contacting the support team about not being able to log in on my account on the website. Can you please look into the issue. Thank you\")\n",
    "time.sleep(1)\n",
    "driver.find_element(\"xpath\", \"/html/body/div[2]/div/form/div/a\").click()\n",
    "time.sleep(15)\n",
    "\n",
    "driver.close()"
   ]
  },
  {
   "cell_type": "markdown",
   "metadata": {},
   "source": [
    "# Test Case 10: Check if user is directed to different page where order confirmation is given after making the purchase "
   ]
  },
  {
   "cell_type": "markdown",
   "metadata": {},
   "source": [
    "Pre-condition: 1.Website should be launched from any browser\n",
    "    \n",
    "               2.Should have items added to cart.\n",
    "        \n",
    "               3.Proceed to check out.\n",
    "\n",
    "            \n",
    "Steps to reproduce: 1.Fill all the mandatory fields(Forename, email, address and payment details)\n",
    "    \n",
    "                    2.Click submit\n",
    "\n",
    "        \n",
    "Test data: forename: Tej\n",
    "        \n",
    "           email: mayurramjug13@gmail.com\n",
    "                \n",
    "           address: 100 station street, Burwood, VIC 3125\n",
    "            \n",
    "           Card number: 1234 5678 9123 4567\n",
    "\n",
    "            \n",
    "Expected Behaviour: An order is placed. User is directed to a new page showing confirmation message for the order and order number is provided.\n",
    "\n",
    "Actual Beheviour: Confirmation message is displayed and order number is given.\n",
    "\n",
    "Result: Pass\n"
   ]
  },
  {
   "cell_type": "code",
   "execution_count": 20,
   "metadata": {},
   "outputs": [
    {
     "name": "stderr",
     "output_type": "stream",
     "text": [
      "C:\\Users\\tejra\\Anaconda3\\lib\\site-packages\\ipykernel_launcher.py:1: DeprecationWarning: executable_path has been deprecated, please pass in a Service object\n",
      "  \"\"\"Entry point for launching an IPython kernel.\n"
     ]
    }
   ],
   "source": [
    "driver = webdriver.Chrome(r\"C:\\Users\\tejra\\Downloads\\chromedriver_win32\\\\chromedriver.exe\")\n",
    "driver.implicitly_wait(10)\n",
    "driver.maximize_window()\n",
    "\n",
    "driver.get(\"https://jupiter.cloud.planittesting.com/#/\")\n",
    "\n",
    "time.sleep(2)\n",
    "\n",
    "driver.find_element(\"xpath\",\"/html/body/div[2]/div/div/div[1]/p[2]/a\").click()\n",
    "time.sleep(2)\n",
    "driver.find_element(\"xpath\", \"//*[@id='product-1']/div/p/a\").click()\n",
    "time.sleep(1)\n",
    "driver.find_element(\"xpath\", \"//*[@id='product-1']/div/p/a\").click()\n",
    "time.sleep(1)\n",
    "driver.find_element(\"xpath\", \"//*[@id='product-1']/div/p/a\").click()\n",
    "time.sleep(1)\n",
    "driver.find_element(\"xpath\", \"//*[@id='product-4']/div/p/a\").click()\n",
    "time.sleep(1)\n",
    "driver.find_element(\"xpath\", \"//*[@id='product-4']/div/p/a\").click()\n",
    "time.sleep(1)\n",
    "driver.find_element(\"xpath\", \"//*[@id='product-6']/div/p/a\").click()\n",
    "time.sleep(1)\n",
    "driver.find_element(\"xpath\", \"//*[@id='product-7']/div/p/a\").click()\n",
    "time.sleep(1)\n",
    "driver.find_element(\"xpath\", \"//*[@id='product-8']/div/p/a\").click()\n",
    "time.sleep(2)\n",
    "driver.find_element(\"id\",\"nav-cart\").click()\n",
    "time.sleep(4)\n",
    "driver.find_element(\"xpath\", \"/html/body/div[2]/div/form/table/tfoot/tr[2]/td/a\").click()\n",
    "time.sleep(2)\n",
    "driver.find_element(\"id\", \"forename\").send_keys(\"Tej\")\n",
    "time.sleep(1)\n",
    "driver.find_element(\"id\", \"email\").send_keys(\"mayurramjug13@gmail.com\")\n",
    "time.sleep(1)\n",
    "driver.find_element(\"id\", \"address\").send_keys(\"100 Station street, Burwood, Victoria 3125\")\n",
    "time.sleep(1)\n",
    "#driver.find_element(\"id\",\"cardType\").click()\n",
    "#time.sleep(3)\n",
    "driver.find_element(\"xpath\", \"//*[@id='cardType']\").click()\n",
    "time.sleep(2)\n",
    "driver.find_element(\"xpath\", \"//*[@id='card']\").send_keys(\"1234 5678 9123 4567\")\n",
    "time.sleep(2)\n",
    "driver.find_element(\"xpath\", \"//*[@id='checkout-submit-btn']\").click()\n",
    "time.sleep(15)\n",
    "driver.close()\n"
   ]
  }
 ],
 "metadata": {
  "kernelspec": {
   "display_name": "Python 3",
   "language": "python",
   "name": "python3"
  },
  "language_info": {
   "codemirror_mode": {
    "name": "ipython",
    "version": 3
   },
   "file_extension": ".py",
   "mimetype": "text/x-python",
   "name": "python",
   "nbconvert_exporter": "python",
   "pygments_lexer": "ipython3",
   "version": "3.7.3"
  }
 },
 "nbformat": 4,
 "nbformat_minor": 2
}
