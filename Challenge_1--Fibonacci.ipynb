{
 "cells": [
  {
   "cell_type": "markdown",
   "metadata": {},
   "source": [
    "# Get the nth number in the fibonacci sequence given n"
   ]
  },
  {
   "cell_type": "code",
   "execution_count": 2,
   "metadata": {},
   "outputs": [
    {
     "name": "stdout",
     "output_type": "stream",
     "text": [
      "Number count: 10\n",
      "Fibonacci= 55\n"
     ]
    }
   ],
   "source": [
    "import math\n",
    "\n",
    "def Fibonacci(n):\n",
    "   \n",
    "    # Check if input is 0 then it will\n",
    "    # print incorrect input \n",
    "    if n < 0:\n",
    "        print(\"Incorrect input\")\n",
    " \n",
    "    # Check if n is 0\n",
    "    # then it will return 0\n",
    "    elif n == 0:\n",
    "        return 0\n",
    " \n",
    "    # Check if n is 1,2\n",
    "    # it will return 1\n",
    "    elif n == 1 or n == 2:\n",
    "        return 1\n",
    " \n",
    "    else:\n",
    "        return Fibonacci(n-1) + Fibonacci(n-2)\n",
    " \n",
    "n = int(input(\"Number count: \"))\n",
    "ans = Fibonacci(n)\n",
    "print(\"Fibonacci= \" + str(ans))"
   ]
  },
  {
   "cell_type": "markdown",
   "metadata": {},
   "source": [
    "# Alternatively given a number F, print out whether it's a fibonacci number and what the closest index n in the fibonacci sequence is"
   ]
  },
  {
   "cell_type": "code",
   "execution_count": 10,
   "metadata": {},
   "outputs": [
    {
     "name": "stdout",
     "output_type": "stream",
     "text": [
      "what number you want to check? 50\n",
      "Closest Idex is: 10\n"
     ]
    }
   ],
   "source": [
    "#function to find perfect squares to use to find fibonacci number\n",
    "def isPerfectSquare(x):\n",
    "    s = int(math.sqrt(x))\n",
    "    return s*s == x\n",
    "\n",
    "#function to check whether given number F is a Fibonacci number or not\n",
    "def isFibonacci(F):\n",
    " \n",
    "    return isPerfectSquare(5*F*F + 4) or isPerfectSquare(5*F*F - 4)\n",
    "\n",
    "#function to find the closest fibonacci number to the input value\n",
    "def Find_Fibonacci_Num(F) :\n",
    "     \n",
    "    x=y=1\n",
    "    while 2*int(F)>x+y:x,y=y,x+y\n",
    "    return x\n",
    "\n",
    "#function to find the closest index of the fibonacci number.\n",
    "def findIndex(result) :\n",
    "     \n",
    "    # if Fibonacci number is less than 2, its index will be same as number\n",
    "    if (result <= 1) :\n",
    "        return result\n",
    "  \n",
    "    a = 0\n",
    "    b = 1\n",
    "    c = 1\n",
    "    res = 1\n",
    "  \n",
    "    # iterate until generated fibonacci number is less than given fibonacci number\n",
    "    while (c < result):\n",
    "        c = a + b\n",
    "          \n",
    "        # res keeps track of number of generated fibonacci number\n",
    "        res = res + 1\n",
    "        a = b\n",
    "        b = c\n",
    "         \n",
    "    return res\n",
    "\n",
    "if __name__ == \"__main__\":\n",
    "    \n",
    "    #number_is = input('what number you want to check? ')\n",
    "    #F = int(number_is)\n",
    "    F = int(input(\"what number you want to check? \"))\n",
    "\n",
    "    check_number = isFibonacci(F)\n",
    "    if check_number == True:\n",
    "        print(str(F) + \" is a Fibonacci number\")\n",
    "    else:\n",
    "        print(str(F) + \" is not a Fibonacci number\")\n",
    "        \n",
    "    result = Find_Fibonacci_Num(F)\n",
    "    index_is = findIndex(result)\n",
    "    print(\"Closest Idex is: \" + str(index_is))"
   ]
  },
  {
   "cell_type": "code",
   "execution_count": null,
   "metadata": {},
   "outputs": [],
   "source": []
  }
 ],
 "metadata": {
  "kernelspec": {
   "display_name": "Python 3",
   "language": "python",
   "name": "python3"
  },
  "language_info": {
   "codemirror_mode": {
    "name": "ipython",
    "version": 3
   },
   "file_extension": ".py",
   "mimetype": "text/x-python",
   "name": "python",
   "nbconvert_exporter": "python",
   "pygments_lexer": "ipython3",
   "version": "3.7.3"
  }
 },
 "nbformat": 4,
 "nbformat_minor": 2
}
