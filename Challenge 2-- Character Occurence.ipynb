{
 "cells": [
  {
   "cell_type": "code",
   "execution_count": 1,
   "metadata": {},
   "outputs": [
    {
     "name": "stdout",
     "output_type": "stream",
     "text": [
      "Enter a string:  Character\n",
      "Output: c\n"
     ]
    }
   ],
   "source": [
    "ASCII_SIZE = 256\n",
    " \n",
    "def getMaxOccurringChar(str):\n",
    "    # Create an array to keep the count of individual characters\n",
    "    # Initialize the count array to zero\n",
    "    count = [0] * ASCII_SIZE\n",
    " \n",
    "    # Utility variables\n",
    "    max = -1\n",
    "    c = ''\n",
    " \n",
    "    # Going through the string while maintaining the count of each character\n",
    "    for i in str:\n",
    "        count[ord(i)]+=1;\n",
    " \n",
    "    # Check if count of character is similar to others, return first occuring character\n",
    "    for i in str:\n",
    "        if max < count[ord(i)]:\n",
    "            max = count[ord(i)]\n",
    "            c = i\n",
    " \n",
    "    return c\n",
    "\n",
    "string_input = input(\"Enter a string:  \")\n",
    "str_same_case = string_input.lower()\n",
    "print(\"Output:\",getMaxOccurringChar(str_same_case))"
   ]
  },
  {
   "cell_type": "code",
   "execution_count": null,
   "metadata": {},
   "outputs": [],
   "source": []
  }
 ],
 "metadata": {
  "kernelspec": {
   "display_name": "Python 3",
   "language": "python",
   "name": "python3"
  },
  "language_info": {
   "codemirror_mode": {
    "name": "ipython",
    "version": 3
   },
   "file_extension": ".py",
   "mimetype": "text/x-python",
   "name": "python",
   "nbconvert_exporter": "python",
   "pygments_lexer": "ipython3",
   "version": "3.7.3"
  }
 },
 "nbformat": 4,
 "nbformat_minor": 2
}
